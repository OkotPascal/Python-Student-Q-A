{
 "cells": [
  {
   "cell_type": "markdown",
   "id": "b694ce02",
   "metadata": {},
   "source": [
    "# Python-Student-Q-A"
   ]
  },
  {
   "cell_type": "raw",
   "id": "d9e52d27",
   "metadata": {},
   "source": []
  },
  {
   "cell_type": "markdown",
   "id": "d93be76a",
   "metadata": {},
   "source": [
    "# Part 1: About Yourself"
   ]
  },
  {
   "cell_type": "code",
   "execution_count": 1,
   "id": "cf90a2a1",
   "metadata": {},
   "outputs": [],
   "source": [
    "import random"
   ]
  },
  {
   "cell_type": "code",
   "execution_count": 3,
   "id": "0f627328",
   "metadata": {},
   "outputs": [
    {
     "name": "stdout",
     "output_type": "stream",
     "text": [
      "What is your name? okot\n",
      "Hello Okot\n",
      "How old are you? 34\n",
      "34 IS AWESOME!\n",
      "Which Country do you come from? uganda\n",
      "You come from Uganda!\n",
      "What is your gender? (M/F)m\n",
      "MALE\n",
      "What transport means do you usually use? (PB/PR)pb\n",
      "PUBLIC\n",
      "What is your favourite to drink? (B/S)b\n",
      "BEVERAGE\n",
      "Do you have a nuclear or extended family? (N/E)e\n",
      "EXTENDED\n",
      "Are you able to afford basic needs? (Y/N)n\n",
      "NO\n",
      "Do you live in an Urban, Semi-urban or Rural area? (U/SU/R)r\n",
      "SEMI-URBAN\n",
      "Are you able to have 3 or more meals a day? (Y/N) n\n",
      "NO\n"
     ]
    }
   ],
   "source": [
    "name = input(\"What is your name? \")\n",
    "print(f\"Hello {name.capitalize()}\")\n",
    "age = input(\"How old are you? \")\n",
    "print(f\"{age} IS AWESOME!\")\n",
    "country = input(\"Which Country do you come from? \")\n",
    "country = country.capitalize()\n",
    "print(f\"You come from {country}!\")\n",
    "\n",
    "gender = input(\"What is your gender? (M/F)\")\n",
    "gender = gender.upper()\n",
    "if gender == 'M':\n",
    "    print(\"MALE\")\n",
    "else:\n",
    "    print(\"FEMALE\")\n",
    "\n",
    "transport = input(\"What transport means do you usually use? (PB/PR)\")\n",
    "transport = transport.upper()\n",
    "if transport == 'PB':\n",
    "    print(\"PUBLIC\")\n",
    "elif transport == 'PR':\n",
    "    print(\"PRIVATE\")\n",
    "\n",
    "favourite_drink = input(\"What is your favourite to drink? (B/S)\")\n",
    "favourite_drink = favourite_drink.upper()\n",
    "if favourite_drink == \"B\":\n",
    "    print(\"BEVERAGE\")\n",
    "elif favourite_drink == 'S':\n",
    "    print(\"SOFT DRINK\")\n",
    "\n",
    "family = input(\"Do you have a nuclear or extended family? (N/E)\")\n",
    "family = family.upper()\n",
    "if family == \"N\":\n",
    "    print('NUCLEAR')\n",
    "else:\n",
    "    print('EXTENDED')\n",
    "    \n",
    "Basic_needs = input(\"Are you able to afford basic needs? (Y/N)\")\n",
    "if Basic_needs == 'Y':\n",
    "    print('YES')\n",
    "else:\n",
    "    print('NO')\n",
    "\n",
    "geographical_entities = input(\"Do you live in an Urban, Semi-urban or Rural area? (U/SU/R)\")\n",
    "geographical_entities = geographical_entities.upper()\n",
    "if geographical_entities == 'U':\n",
    "    print('URBAN')\n",
    "elif 'SU':\n",
    "    print('SEMI-URBAN')\n",
    "elif 'R':\n",
    "    print('RURAL')\n",
    "\n",
    "meals = input(\"Are you able to have 3 or more meals a day? (Y/N) \")\n",
    "if meals == 'Y':\n",
    "    print('YES')\n",
    "else:\n",
    "    print('NO')"
   ]
  },
  {
   "cell_type": "markdown",
   "id": "3fed6789",
   "metadata": {},
   "source": [
    "# Part 2: (Game Break) Rock, Paper, Scissors"
   ]
  },
  {
   "cell_type": "code",
   "execution_count": 15,
   "id": "d023ac65",
   "metadata": {},
   "outputs": [
    {
     "name": "stdout",
     "output_type": "stream",
     "text": [
      "Enter Your Choice: 1: Rock, 2: Paper, 3: Scissor\n",
      "your_choice (1/2/3):1\n",
      "Computer: 1\n",
      "Draw\n"
     ]
    }
   ],
   "source": [
    "print(\"Enter Your Choice: 1: Rock, 2: Paper, 3: Scissor\")\n",
    "your_choice = input(\"your_choice (1/2/3):\")\n",
    "your_choice = int(your_choice)\n",
    "\n",
    "computer_choice = random.randint(1,3)\n",
    "print(f\"Computer: {computer_choice}\")\n",
    "\n",
    "if your_choice == computer_choice:\n",
    "    print(\"Draw\")\n",
    "elif your_choice == 1:# Rock\n",
    "    if computer_choice == 2:# Scissor\n",
    "        print(\"Computer Wins\")\n",
    "    else:\n",
    "        print(\"You Win\")\n",
    "elif your_choice == 2:# Paper\n",
    "    if computer_choice == 1:# Rock\n",
    "        print (\"You Win\")\n",
    "    else:\n",
    "        print(\"Computer Wins\")\n",
    "elif your_choice == 3:# Scissor\n",
    "    if computer_choice == 1:# Rock\n",
    "        print(\"Computer Wins\")\n",
    "    else:\n",
    "        print(\"You win\")"
   ]
  },
  {
   "cell_type": "code",
   "execution_count": null,
   "id": "218fa9a3",
   "metadata": {},
   "outputs": [],
   "source": []
  }
 ],
 "metadata": {
  "kernelspec": {
   "display_name": "Python 3 (ipykernel)",
   "language": "python",
   "name": "python3"
  },
  "language_info": {
   "codemirror_mode": {
    "name": "ipython",
    "version": 3
   },
   "file_extension": ".py",
   "mimetype": "text/x-python",
   "name": "python",
   "nbconvert_exporter": "python",
   "pygments_lexer": "ipython3",
   "version": "3.9.12"
  }
 },
 "nbformat": 4,
 "nbformat_minor": 5
}
