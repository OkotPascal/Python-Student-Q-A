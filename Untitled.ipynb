{
 "cells": [
  {
   "cell_type": "markdown",
   "id": "4ef44eae",
   "metadata": {},
   "source": [
    "# First Time \"Data Science\" Student Q & A"
   ]
  },
  {
   "cell_type": "code",
   "execution_count": 5,
   "id": "1beecee4",
   "metadata": {},
   "outputs": [],
   "source": [
    "import random"
   ]
  },
  {
   "cell_type": "code",
   "execution_count": 4,
   "id": "49507f52",
   "metadata": {},
   "outputs": [
    {
     "name": "stdout",
     "output_type": "stream",
     "text": [
      "What is your name? Okot\n",
      "Hello Okot\n",
      "How old are you? 34\n",
      "34 is awesome!\n",
      "What is your gender? (M/F)f\n",
      "FEMALE\n"
     ]
    }
   ],
   "source": [
    "name = input(\"What is your name? \")\n",
    "print(f\"Hello {name.capitalize()}\")\n",
    "age = input(\"How old are you? \")\n",
    "print(f\"{age} is awesome!\")\n",
    "gender = input(\"What is your gender? (M/F)\")\n",
    "gender = gender.upper()\n",
    "if gender == 'M':\n",
    "    print(\"MALE\")\n",
    "elif gender == 'F':\n",
    "    print(\"FEMALE\")"
   ]
  },
  {
   "cell_type": "code",
   "execution_count": null,
   "id": "4a98a524",
   "metadata": {},
   "outputs": [],
   "source": []
  }
 ],
 "metadata": {
  "kernelspec": {
   "display_name": "Python 3 (ipykernel)",
   "language": "python",
   "name": "python3"
  },
  "language_info": {
   "codemirror_mode": {
    "name": "ipython",
    "version": 3
   },
   "file_extension": ".py",
   "mimetype": "text/x-python",
   "name": "python",
   "nbconvert_exporter": "python",
   "pygments_lexer": "ipython3",
   "version": "3.9.12"
  }
 },
 "nbformat": 4,
 "nbformat_minor": 5
}
